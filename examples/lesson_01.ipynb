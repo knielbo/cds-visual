{
 "cells": [
  {
   "cell_type": "markdown",
   "metadata": {},
   "source": [
    "# Lesson 1.1: What is an image?"
   ]
  },
  {
   "cell_type": "code",
   "execution_count": null,
   "metadata": {},
   "outputs": [],
   "source": [
    "#!pip3 list\n",
    "import sys\n",
    "sys.path.append(\"/work/CDS-DEV-21S/cds-visual/src\")\n",
    "sys.executable"
   ]
  },
  {
   "cell_type": "code",
   "execution_count": null,
   "metadata": {},
   "outputs": [],
   "source": [
    "import os\n",
    "import cv2\n",
    "%matplotlib inline"
   ]
  },
  {
   "cell_type": "code",
   "execution_count": null,
   "metadata": {},
   "outputs": [],
   "source": [
    "path_to_image = os.path.join(\"..\", \"dat\", \"img\", \"trex.png\")\n",
    "## or\n",
    "# fpath = \"../img/trex.png\""
   ]
  },
  {
   "cell_type": "code",
   "execution_count": null,
   "metadata": {},
   "outputs": [],
   "source": [
    "image = cv2.imread(path_to_image)"
   ]
  },
  {
   "cell_type": "code",
   "execution_count": null,
   "metadata": {},
   "outputs": [],
   "source": [
    "print(\"[INFO] width: {} pixels\".format(image.shape[1]))\n",
    "print(\"[INFO] height: {} pixels\".format(image.shape[0]))\n",
    "print(\"[INFO] channel: {}\".format(image.shape[2]))"
   ]
  },
  {
   "cell_type": "code",
   "execution_count": null,
   "metadata": {},
   "outputs": [],
   "source": [
    "print(image[:10,:10,0])"
   ]
  },
  {
   "cell_type": "markdown",
   "metadata": {},
   "source": [
    "### Dealing with constraints from coding environments\n",
    "If you run code from the command line interface (CLI) use `cv2.imshow(\"Image\", image)`. Alternatively, if you are running Jupyter Notebook locally, then use the following (remove `#`)"
   ]
  },
  {
   "cell_type": "code",
   "execution_count": null,
   "metadata": {},
   "outputs": [],
   "source": [
    "#cv2.imshow(\"Image\", image)\n",
    "#cv2.waitKey(0)\n",
    "#cv2.destroyAllWindows()"
   ]
  },
  {
   "cell_type": "markdown",
   "metadata": {},
   "source": [
    "Finally, if you are using JupyterHub at `worker02` then use `jimshow()` from our utility library"
   ]
  },
  {
   "cell_type": "code",
   "execution_count": null,
   "metadata": {},
   "outputs": [],
   "source": [
    "from imutils import jimshow\n",
    "jimshow(image, \"Image\")"
   ]
  },
  {
   "cell_type": "code",
   "execution_count": null,
   "metadata": {},
   "outputs": [],
   "source": [
    "(fpath, _) = os.path.split(path_to_image)\n",
    "fout = os.path.join(fpath, \"newimage.jpg\")\n",
    "cv2.imwrite(fout, image);"
   ]
  },
  {
   "cell_type": "code",
   "execution_count": null,
   "metadata": {},
   "outputs": [],
   "source": [
    "# clean-up\n",
    "os.remove(fout)"
   ]
  },
  {
   "cell_type": "markdown",
   "metadata": {},
   "source": [
    "### Reverse tuples!!!\n",
    "RGB is BGR in `cv2`"
   ]
  },
  {
   "cell_type": "code",
   "execution_count": null,
   "metadata": {},
   "outputs": [],
   "source": [
    "(b, g, r) = image[0, 0]\n",
    "print(\"[INFO] pixels at (0, 0) - Red: {}, Green {}, Blue: {}\".format(r,g,b))"
   ]
  },
  {
   "cell_type": "markdown",
   "metadata": {},
   "source": [
    "Manipulate image color for pixel"
   ]
  },
  {
   "cell_type": "code",
   "execution_count": null,
   "metadata": {},
   "outputs": [],
   "source": [
    "image[0, 0] = (0, 0, 255)\n",
    "(b, g, r) = image[0, 0]\n",
    "print(\"[INFO] pixels at (0, 0) - Red: {}, Green {}, Blue: {}\".format(r,g,b))"
   ]
  },
  {
   "cell_type": "markdown",
   "metadata": {},
   "source": [
    "Grab 100x100 pixel region"
   ]
  },
  {
   "cell_type": "code",
   "execution_count": null,
   "metadata": {},
   "outputs": [],
   "source": [
    "corner = image[0:100, 0:100]\n",
    "jimshow(corner, \"Corner\")"
   ]
  },
  {
   "cell_type": "markdown",
   "metadata": {},
   "source": [
    "Change color of 100x100 pixel region"
   ]
  },
  {
   "cell_type": "code",
   "execution_count": null,
   "metadata": {},
   "outputs": [],
   "source": [
    "image[0:100,0:100] = (0, 0, 255)\n",
    "jimshow(image, \"Update\")"
   ]
  },
  {
   "cell_type": "markdown",
   "metadata": {},
   "source": [
    "# Lesson 1.2: Drawing"
   ]
  },
  {
   "cell_type": "markdown",
   "metadata": {},
   "source": [
    "# Lesson 1.3: Image translation"
   ]
  },
  {
   "cell_type": "code",
   "execution_count": null,
   "metadata": {
    "scrolled": true
   },
   "outputs": [],
   "source": [
    "import numpy as np\n",
    "import cv2\n",
    "import imutils"
   ]
  },
  {
   "cell_type": "code",
   "execution_count": null,
   "metadata": {},
   "outputs": [],
   "source": [
    "fpath = os.path.join(\"..\", \"dat\", \"img\", \"trex.png\")\n",
    "image = cv2.imread(fpath)\n",
    "jimshow(image, \"Original\")"
   ]
  },
  {
   "cell_type": "code",
   "execution_count": null,
   "metadata": {},
   "outputs": [],
   "source": [
    "T = np.float32([[1, 0, 25], [0, 1, 50]])\n",
    "shifted = cv2.warpAffine(image, T, (image.shape[1], image.shape[0]))\n",
    "jimshow(shifted, \"Shifted Down and Right\")"
   ]
  },
  {
   "cell_type": "code",
   "execution_count": null,
   "metadata": {},
   "outputs": [],
   "source": [
    "T = np.float32([[1, 0, -50], [0,1,-90]])\n",
    "shifted = cv2.warpAffine(image, T, (image.shape[1], image.shape[0]))\n",
    "jimshow(shifted, \"Shifted Up and Left\")"
   ]
  },
  {
   "cell_type": "markdown",
   "metadata": {},
   "source": [
    "shifting with a function from `imutils`"
   ]
  },
  {
   "cell_type": "code",
   "execution_count": null,
   "metadata": {},
   "outputs": [],
   "source": [
    "shifted = imutils.translate(image, 0, 100)\n",
    "jimshow(shifted, \"Shifted Down\")"
   ]
  },
  {
   "cell_type": "markdown",
   "metadata": {},
   "source": [
    "## Digression 1.3.1: Translation matrix"
   ]
  },
  {
   "cell_type": "code",
   "execution_count": null,
   "metadata": {},
   "outputs": [],
   "source": [
    "import numpy as np\n",
    "import matplotlib.pyplot as plt"
   ]
  },
  {
   "cell_type": "code",
   "execution_count": null,
   "metadata": {},
   "outputs": [],
   "source": [
    "(x0, y0, z0) = 2, 2, 2\n",
    "fig = plt.figure()\n",
    "ax = fig.add_subplot(121,projection='3d')\n",
    "ax.scatter(x0, y0, z0,color=\"g\", s=50);"
   ]
  },
  {
   "cell_type": "code",
   "execution_count": null,
   "metadata": {},
   "outputs": [],
   "source": [
    "(tx, ty, tz) = 2, 2, 1\n",
    "P = np.array([x0, y0, z0, 1])\n",
    "T = np.array([[1, 0, 0, tx], [0, 1, 0, ty], [0, 0, 1, tz], [0, 0, 0, 1]])\n",
    "Q = np.dot(T,P)\n",
    "print(Q)"
   ]
  },
  {
   "cell_type": "code",
   "execution_count": null,
   "metadata": {},
   "outputs": [],
   "source": [
    "fig = plt.figure()\n",
    "ax = fig.add_subplot(121,projection='3d')\n",
    "ax.scatter([P[0], Q[0]], [P[1], Q[1]], [P[2], Q[2]],zorder=1,color=\"g\", s=50)\n",
    "ax.plot([P[0], Q[0]], [P[1], Q[1]], [P[2], Q[2]],zorder=2,color=\"g\");"
   ]
  }
 ],
 "metadata": {
  "kernelspec": {
   "display_name": "Python 3",
   "language": "python",
   "name": "python3"
  },
  "language_info": {
   "codemirror_mode": {
    "name": "ipython",
    "version": 3
   },
   "file_extension": ".py",
   "mimetype": "text/x-python",
   "name": "python",
   "nbconvert_exporter": "python",
   "pygments_lexer": "ipython3",
   "version": "3.7.8"
  }
 },
 "nbformat": 4,
 "nbformat_minor": 4
}
